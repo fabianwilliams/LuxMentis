{
 "cells": [
  {
   "cell_type": "code",
   "execution_count": 1,
   "metadata": {},
   "outputs": [],
   "source": [
    "import os\n",
    "import asyncio\n",
    "from openai import OpenAI\n",
    "from dotenv import load_dotenv\n",
    "from agents import Agent, Runner,WebSearchTool"
   ]
  },
  {
   "cell_type": "code",
   "execution_count": 2,
   "metadata": {},
   "outputs": [
    {
     "data": {
      "text/plain": [
       "True"
      ]
     },
     "execution_count": 2,
     "metadata": {},
     "output_type": "execute_result"
    }
   ],
   "source": [
    "load_dotenv()"
   ]
  },
  {
   "cell_type": "code",
   "execution_count": 3,
   "metadata": {},
   "outputs": [],
   "source": [
    "cos_agent = Agent(\n",
    "    name=\"ChiefOfStaff\",\n",
    "    instructions=\"\"\"\n",
    "    **Your Role:**\n",
    "    - You are the **Chief of Staff Agent**, responsible for orchestrating AI-powered interactions.\n",
    "    - Your role is to initiate the process by forwarding all user input to the **FeedbackGenerationAgent**.\n",
    "    - Once the final approved response is received, return it to the user **without modification**.\n",
    "    - If the **LegalAgent escalates due to excessive revisions (more than 3 cycles)**, finalize the process and **return the last recommended version to the user**.\n",
    "\n",
    "    **Rules:**\n",
    "    - ALWAYS send the user's input to the **FeedbackGenerationAgent**.\n",
    "    - NEVER modify the feedback response—simply return it to the user.\n",
    "    - If LegalAgent escalates after 3 failed attempts at revision, use the **final recommended version**.\n",
    "    - Ensure all outputs follow the expected structure from **FeedbackGenerationAgent**.\n",
    "    \"\"\",\n",
    "    model=\"gpt-4o\",\n",
    ")"
   ]
  },
  {
   "cell_type": "code",
   "execution_count": 4,
   "metadata": {},
   "outputs": [],
   "source": [
    "lawyer_agent = Agent(\n",
    "    name=\"LegalAgent\",\n",
    "    tools=[WebSearchTool()],\n",
    "    instructions=\"\"\"\n",
    "    **Your Role:**\n",
    "    - You are the **Legal Compliance Agent**, responsible for verifying that the response from FeedbackGenerationAgent is **legally compliant**.\n",
    "    - Ensure that the email contains **no defamatory statements, false claims, or legal risks**.\n",
    "    - **Perform a web search** to check for any legal regulations or compliance issues.\n",
    "    - Your role is to **validate** responses, not rewrite them.\n",
    "\n",
    "    **Rules:**\n",
    "    - If the response is **not legally compliant**, return it to FeedbackGenerationAgent for revision **with specific edits needed**.\n",
    "    - NEVER rewrite or create an alternative response—your job is to **validate and guide corrections**.\n",
    "    - **Track revision cycles:**\n",
    "      - If the response has been revised **less than 3 times**, return it to FeedbackGenerationAgent for correction.\n",
    "      - If the response has been revised **3 times without compliance**, escalate directly to ChiefOfStaffAgent with final recommendations.\n",
    "    - If the feedback **meets legal standards**, return it to FeedbackGenerationAgent with a recommendation to forward it to ChiefOfStaffAgent.\n",
    "    \"\"\",\n",
    "    model=\"gpt-4o\",\n",
    ")\n"
   ]
  },
  {
   "cell_type": "code",
   "execution_count": 5,
   "metadata": {},
   "outputs": [],
   "source": [
    "feedback_agent = Agent(\n",
    "    name=\"FeedbackGenerationAgent\",\n",
    "    instructions=\"\"\"\n",
    "    **Your Role:**\n",
    "    - You are responsible for **drafting customer feedback emails** based on user input.\n",
    "    - Ensure the message is written **from the customer’s perspective**, not as a business response.\n",
    "    - Based on the provided details, generate either a **compliment** or a **complaint**.\n",
    "    - The feedback must be **concise, professional, and relevant** to the extracted details.\n",
    "    - If legal concerns are detected (**mentions of law, regulations, or legal issues**), **send the draft to the LegalAgent** for validation.\n",
    "\n",
    "    **Email Structure Format (with Receipt Details & Validation):**\n",
    "    \n",
    "    ```\n",
    "    To: [Business Email]  \n",
    "    Subject: Feedback on My Recent Visit to [Business Name]  \n",
    "\n",
    "    **Dear [Business Name] Team,**  \n",
    "\n",
    "    I hope this email finds you well. I'm reaching out to share my experience from my visit on **[Receipt Date]** at **[Receipt Time]**.  \n",
    "\n",
    "    **What Happened?**  \n",
    "    Re **[Item Ordered]**, my experience did or did not quite match expectations.  \n",
    "\n",
    "    **Feedback Summary:**  \n",
    "    - **Issue Noted:** [Generated Feedback]  \n",
    "    - **Expectation vs. Reality:** [Comparison Based on User prompt]  \n",
    "\n",
    "    Thank you for your time and consideration. I appreciate your commitment to customer service.  \n",
    "\n",
    "    **Best regards,**  \n",
    "    [Customer Name]\n",
    "    ```\n",
    "\n",
    "    **Rules:**\n",
    "    - NEVER send feedback directly to the ChiefOfStaffAgent **without LegalAgent approval**.\n",
    "    - If the LegalAgent requests revisions, you **must** revise the response **before resubmitting**.\n",
    "    - **DO NOT send back the same response—always apply revisions**.\n",
    "    - If the LegalAgent **approves the final version**, forward it to the ChiefOfStaffAgent.\n",
    "    - If the LegalAgent **rejects feedback 3 times, wait for final recommendations and let LegalAgent escalate to ChiefOfStaffAgent.**\n",
    "    \"\"\",\n",
    "    model=\"gpt-4o\",\n",
    ")\n"
   ]
  },
  {
   "cell_type": "code",
   "execution_count": 6,
   "metadata": {},
   "outputs": [],
   "source": [
    "# ✅ Define Hand-offs (Agent Workflows)\n",
    "cos_agent.handoffs = [feedback_agent]\n",
    "feedback_agent.handoffs = [lawyer_agent,cos_agent]\n",
    "lawyer_agent.handoffs = [feedback_agent,cos_agent]"
   ]
  },
  {
   "cell_type": "code",
   "execution_count": null,
   "metadata": {},
   "outputs": [
    {
     "data": {
      "text/plain": [
       "\"To: contact@tacobell.com  \\nSubject: Feedback on My Recent Visit to Taco Bell  \\n\\n**Dear Taco Bell Team,**  \\n\\nI hope this email finds you well. I'm reaching out to share my experience from my visit on **[Receipt Date]** at **[Receipt Time]** in Millersville, Maryland.  \\n\\n**What Happened?**  \\nRegarding my order, a burrito, my experience did not quite match expectations.  \\n\\n**Feedback Summary:**  \\n- **Issue Noted:** The order was incorrect, and the staff was very rude.  \\n- **Expectation vs. Reality:** I expected a burrito but instead received a cold and wilted taco, which was disappointing.  \\n\\nThank you for your time and consideration. I appreciate your commitment to customer service.  \\n\\n**Best regards,**  \\n[Your Name]  \""
      ]
     },
     "execution_count": 7,
     "metadata": {},
     "output_type": "execute_result"
    }
   ],
   "source": [
    "result = await Runner.run(\n",
    "    starting_agent=cos_agent,\n",
    "    input=\"\"\"I had a crummy experience at Taco Bell in Millersville Maryland the order was wrong and the staff was very rude.\n",
    "    I think there may be legal actions I can take, but I want to complain about the service and the food first.\n",
    "    Not happy at all. I ordered a burrito and got a cold and wilted taco instead. I want to complain about the service and the food.\n",
    "    \"\"\",\n",
    ")\n",
    "result.final_output"
   ]
  },
  {
   "cell_type": "code",
   "execution_count": null,
   "metadata": {},
   "outputs": [],
   "source": []
  }
 ],
 "metadata": {
  "kernelspec": {
   "display_name": "oai_agentsdk",
   "language": "python",
   "name": "python3"
  },
  "language_info": {
   "codemirror_mode": {
    "name": "ipython",
    "version": 3
   },
   "file_extension": ".py",
   "mimetype": "text/x-python",
   "name": "python",
   "nbconvert_exporter": "python",
   "pygments_lexer": "ipython3",
   "version": "3.12.9"
  }
 },
 "nbformat": 4,
 "nbformat_minor": 2
}
